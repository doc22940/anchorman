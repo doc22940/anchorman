{
 "cells": [
  {
   "cell_type": "code",
   "execution_count": 1,
   "metadata": {
    "collapsed": false
   },
   "outputs": [],
   "source": [
    "import anchorman"
   ]
  },
  {
   "cell_type": "markdown",
   "metadata": {},
   "source": [
    "## Initialize the data"
   ]
  },
  {
   "cell_type": "code",
   "execution_count": 2,
   "metadata": {
    "collapsed": false
   },
   "outputs": [
    {
     "name": "stdout",
     "output_type": "stream",
     "text": [
      "The quick brown <a href=\"/fox\" class=\"anchorman\">fox</a> jumps over the lazy <a href=\"/dog\" class=\"anchorman\">dog</a>.\n"
     ]
    }
   ],
   "source": [
    "text = \"The quick brown fox jumps over the lazy dog.\"\n",
    "links = [{'fox': {'value': '/fox'}},\n",
    "         {'dog': {'value': '/dog'}}]\n",
    "a = anchorman.add(text, links)\n",
    "print a.result"
   ]
  },
  {
   "cell_type": "markdown",
   "metadata": {},
   "source": [
    "The quick brown <a href=\"/fox\" class=\"anchorman\">fox</a> jumps over the lazy <a href=\"/dog\" class=\"anchorman\">dog</a>.\n",
    "\n",
    "## Markup format"
   ]
  },
  {
   "cell_type": "code",
   "execution_count": 6,
   "metadata": {
    "collapsed": false
   },
   "outputs": [
    {
     "name": "stdout",
     "output_type": "stream",
     "text": [
      "The quick brown <a href=\"/fox\" style=\"background:green;color:white;padding:2px 6px;\" class=\"animal\">fox</a> jumps over the lazy <a href=\"/dog\" style=\"background:green;color:white;padding:2px 6px;\" class=\"animal\">dog</a>.\n"
     ]
    }
   ],
   "source": [
    "markup_format = {\n",
    "    'tag': 'a',\n",
    "    'value_key': 'href',\n",
    "    'attributes': [\n",
    "        ('style', 'background:green;color:white;padding:2px 6px;'),\n",
    "        ('class', 'animal')\n",
    "    ]\n",
    "}\n",
    "a = anchorman.add(text, links, markup_format=markup_format)\n",
    "print a.result"
   ]
  },
  {
   "cell_type": "markdown",
   "metadata": {},
   "source": [
    "The quick brown <a href=\"/fox\" style=\"background:green;color:white;padding:2px 6px;\" class=\"animal\">fox</a> jumps over the lazy <a href=\"/dog\" style=\"background:green;color:white;padding:2px 6px;\" class=\"animal\">dog</a>."
   ]
  },
  {
   "cell_type": "code",
   "execution_count": null,
   "metadata": {
    "collapsed": true
   },
   "outputs": [],
   "source": []
  }
 ],
 "metadata": {
  "kernelspec": {
   "display_name": "Python 2",
   "language": "python",
   "name": "python2"
  },
  "language_info": {
   "codemirror_mode": {
    "name": "ipython",
    "version": 2
   },
   "file_extension": ".py",
   "mimetype": "text/x-python",
   "name": "python",
   "nbconvert_exporter": "python",
   "pygments_lexer": "ipython2",
   "version": "2.7.9"
  }
 },
 "nbformat": 4,
 "nbformat_minor": 0
}
