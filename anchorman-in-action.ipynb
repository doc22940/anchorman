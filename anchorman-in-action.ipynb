{
 "cells": [
  {
   "cell_type": "markdown",
   "metadata": {
    "collapsed": false
   },
   "source": [
    "#Anchorman in action"
   ]
  },
  {
   "cell_type": "markdown",
   "metadata": {
    "collapsed": true
   },
   "source": [
    "<p style=\"font-size:12px;color:#CCC;\">pip install \"ipython[notebook]\" anchorman && ipython notebook<br>and open this file on the server</p>\n"
   ]
  },
  {
   "cell_type": "code",
   "execution_count": 1,
   "metadata": {
    "collapsed": false
   },
   "outputs": [
    {
     "ename": "ImportError",
     "evalue": "No module named regex",
     "output_type": "error",
     "traceback": [
      "\u001b[0;31m---------------------------------------------------------------------------\u001b[0m",
      "\u001b[0;31mImportError\u001b[0m                               Traceback (most recent call last)",
      "\u001b[0;32m<ipython-input-1-f024ff97f901>\u001b[0m in \u001b[0;36m<module>\u001b[0;34m()\u001b[0m\n\u001b[0;32m----> 1\u001b[0;31m \u001b[0;32mimport\u001b[0m \u001b[0manchorman\u001b[0m\u001b[0;34m\u001b[0m\u001b[0m\n\u001b[0m",
      "\u001b[0;32m/Users/rebel/github/anchorman/anchorman/__init__.py\u001b[0m in \u001b[0;36m<module>\u001b[0;34m()\u001b[0m\n\u001b[1;32m      2\u001b[0m \u001b[0;31m# encoding: utf-8\u001b[0m\u001b[0;34m\u001b[0m\u001b[0;34m\u001b[0m\u001b[0m\n\u001b[1;32m      3\u001b[0m \u001b[0;34m\u001b[0m\u001b[0m\n\u001b[0;32m----> 4\u001b[0;31m \u001b[0;32mfrom\u001b[0m \u001b[0;34m.\u001b[0m\u001b[0manchorman\u001b[0m \u001b[0;32mimport\u001b[0m \u001b[0;34m*\u001b[0m\u001b[0;34m\u001b[0m\u001b[0m\n\u001b[0m\u001b[1;32m      5\u001b[0m \u001b[0;34m\u001b[0m\u001b[0m\n\u001b[1;32m      6\u001b[0m \u001b[0;34m\u001b[0m\u001b[0m\n",
      "\u001b[0;32m/Users/rebel/github/anchorman/anchorman/anchorman.py\u001b[0m in \u001b[0;36m<module>\u001b[0;34m()\u001b[0m\n\u001b[1;32m      1\u001b[0m \u001b[0;31m#!/usr/bin/env python\u001b[0m\u001b[0;34m\u001b[0m\u001b[0;34m\u001b[0m\u001b[0m\n\u001b[1;32m      2\u001b[0m \u001b[0;31m# -*- coding: utf-8 -*-\u001b[0m\u001b[0;34m\u001b[0m\u001b[0;34m\u001b[0m\u001b[0m\n\u001b[0;32m----> 3\u001b[0;31m \u001b[0;32mfrom\u001b[0m \u001b[0mlinkit\u001b[0m \u001b[0;32mimport\u001b[0m \u001b[0madd_links\u001b[0m\u001b[0;34m\u001b[0m\u001b[0m\n\u001b[0m\u001b[1;32m      4\u001b[0m \u001b[0;32mfrom\u001b[0m \u001b[0mlinkit\u001b[0m \u001b[0;32mimport\u001b[0m \u001b[0mfinditer_result\u001b[0m\u001b[0;34m\u001b[0m\u001b[0m\n\u001b[1;32m      5\u001b[0m \u001b[0;32mfrom\u001b[0m \u001b[0mlinkit\u001b[0m \u001b[0;32mimport\u001b[0m \u001b[0mremove_links\u001b[0m\u001b[0;34m\u001b[0m\u001b[0m\n",
      "\u001b[0;32m/Users/rebel/github/anchorman/anchorman/linkit.py\u001b[0m in \u001b[0;36m<module>\u001b[0;34m()\u001b[0m\n\u001b[1;32m      2\u001b[0m \u001b[0;31m# encoding: utf-8\u001b[0m\u001b[0;34m\u001b[0m\u001b[0;34m\u001b[0m\u001b[0m\n\u001b[1;32m      3\u001b[0m \u001b[0;34m\u001b[0m\u001b[0m\n\u001b[0;32m----> 4\u001b[0;31m \u001b[0;32mimport\u001b[0m \u001b[0mregex\u001b[0m \u001b[0;32mas\u001b[0m \u001b[0mre\u001b[0m\u001b[0;34m\u001b[0m\u001b[0m\n\u001b[0m\u001b[1;32m      5\u001b[0m \u001b[0;32mfrom\u001b[0m \u001b[0mlxml\u001b[0m \u001b[0;32mimport\u001b[0m \u001b[0metree\u001b[0m\u001b[0;34m\u001b[0m\u001b[0m\n\u001b[1;32m      6\u001b[0m \u001b[0;32mfrom\u001b[0m \u001b[0mtree\u001b[0m \u001b[0;32mimport\u001b[0m \u001b[0mto_tree\u001b[0m\u001b[0;34m,\u001b[0m \u001b[0mfrom_tree\u001b[0m\u001b[0;34m\u001b[0m\u001b[0m\n",
      "\u001b[0;31mImportError\u001b[0m: No module named regex"
     ]
    }
   ],
   "source": [
    "import anchorman"
   ]
  },
  {
   "cell_type": "markdown",
   "metadata": {},
   "source": [
    "## Initialize the data"
   ]
  },
  {
   "cell_type": "code",
   "execution_count": 8,
   "metadata": {
    "collapsed": false
   },
   "outputs": [
    {
     "name": "stdout",
     "output_type": "stream",
     "text": [
      "The quick brown <a href=\"/fox\" class=\"anchorman\">fox</a> jumps over the lazy <a href=\"/dog\" class=\"anchorman\">dog</a>.\n"
     ]
    }
   ],
   "source": [
    "text = \"The quick brown fox jumps over the lazy dog.\"\n",
    "links = [{'fox': {'value': '/fox'}},\n",
    "         {'dog': {'value': '/dog'}}]\n",
    "a = anchorman.add(text, links)\n",
    "print a.result"
   ]
  },
  {
   "cell_type": "markdown",
   "metadata": {},
   "source": [
    "The quick brown <a href=\"/fox\" class=\"anchorman\">fox</a> jumps over the lazy <a href=\"/dog\" class=\"anchorman\">dog</a>.\n",
    "\n",
    "## Markup format"
   ]
  },
  {
   "cell_type": "code",
   "execution_count": 10,
   "metadata": {
    "collapsed": false
   },
   "outputs": [
    {
     "name": "stdout",
     "output_type": "stream",
     "text": [
      "The quick brown <a href=\"/fox\" style=\"background:green;color:white;padding:2px 6px; font-size:23px;background:red;\" class=\"animal animal\" title=\"The fox\">fox</a> jumps over the lazy <a href=\"/dog\" style=\"background:green;color:white;padding:2px 6px;\" class=\"animal\">dog</a>.\n"
     ]
    }
   ],
   "source": [
    "markup_format = {\n",
    "    'tag': 'a',\n",
    "    'value_key': 'href',\n",
    "    'attributes': [\n",
    "        ('style', 'background:green;color:white;padding:2px 6px;'),\n",
    "        ('class', 'animal')\n",
    "    ]\n",
    "}\n",
    "a = anchorman.add(text, links, markup_format=markup_format)\n",
    "print a.result"
   ]
  },
  {
   "cell_type": "markdown",
   "metadata": {},
   "source": [
    "The quick brown <a href=\"/fox\" style=\"background:green;color:white;padding:2px 6px; background:red;\" class=\"animal animal\" title=\"The fox\">fox</a> jumps over the lazy <a href=\"/dog\" style=\"background:green;color:white;padding:2px 6px;\" class=\"animal\">dog</a>."
   ]
  },
  {
   "cell_type": "markdown",
   "metadata": {
    "collapsed": true
   },
   "source": [
    "##Item/Link format"
   ]
  },
  {
   "cell_type": "code",
   "execution_count": 13,
   "metadata": {
    "collapsed": false
   },
   "outputs": [
    {
     "name": "stdout",
     "output_type": "stream",
     "text": [
      "The quick brown <a href=\"/fox\" style=\"background:green;color:white;padding:2px 6px; background:red;\" class=\"animal animal\" title=\"The fox\">fox</a> jumps over the lazy <a href=\"/dog\" style=\"background:green;color:white;padding:2px 6px;\" class=\"animal\">dog</a>.\n"
     ]
    }
   ],
   "source": [
    "links = [\n",
    "    {'fox': {'value': '/fox',\n",
    "             'attributes': [\n",
    "                ('class', 'animal'),\n",
    "                ('style', 'background:red;'),\n",
    "                ('title', 'The fox')]\n",
    "            }\n",
    "    },\n",
    "    {'dog': {'value': '/dog'}\n",
    "    }]\n",
    "a = anchorman.add(text, links, markup_format=markup_format)\n",
    "print a.result"
   ]
  },
  {
   "cell_type": "code",
   "execution_count": null,
   "metadata": {
    "collapsed": true
   },
   "outputs": [],
   "source": []
  }
 ],
 "metadata": {
  "kernelspec": {
   "display_name": "Python 2",
   "language": "python",
   "name": "python2"
  },
  "language_info": {
   "codemirror_mode": {
    "name": "ipython",
    "version": 2
   },
   "file_extension": ".py",
   "mimetype": "text/x-python",
   "name": "python",
   "nbconvert_exporter": "python",
   "pygments_lexer": "ipython2",
   "version": "2.7.10"
  }
 },
 "nbformat": 4,
 "nbformat_minor": 0
}
